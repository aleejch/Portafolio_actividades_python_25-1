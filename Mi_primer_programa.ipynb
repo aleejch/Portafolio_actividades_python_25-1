{
  "nbformat": 4,
  "nbformat_minor": 0,
  "metadata": {
    "colab": {
      "provenance": [],
      "authorship_tag": "ABX9TyORTtXotzPOYH4JOcVmG0wY",
      "include_colab_link": true
    },
    "kernelspec": {
      "name": "python3",
      "display_name": "Python 3"
    },
    "language_info": {
      "name": "python"
    }
  },
  "cells": [
    {
      "cell_type": "markdown",
      "metadata": {
        "id": "view-in-github",
        "colab_type": "text"
      },
      "source": [
        "<a href=\"https://colab.research.google.com/github/aleejch/Portafolio_actividades_python_25-1/blob/main/Mi_primer_programa.ipynb\" target=\"_parent\"><img src=\"https://colab.research.google.com/assets/colab-badge.svg\" alt=\"Open In Colab\"/></a>"
      ]
    },
    {
      "cell_type": "code",
      "execution_count": null,
      "metadata": {
        "colab": {
          "base_uri": "https://localhost:8080/"
        },
        "id": "u04_OLWbSNGn",
        "outputId": "fccea954-36ff-4330-f448-0395f1030dae"
      },
      "outputs": [
        {
          "output_type": "stream",
          "name": "stdout",
          "text": [
            "Hola mundo\n"
          ]
        }
      ],
      "source": [
        "print(\"Hola mundo\")"
      ]
    },
    {
      "cell_type": "code",
      "source": [
        "print(\"Hola + estudiantes\")\n",
        "print(\"Hola \" + \" estudiantes\")\n",
        "print(\"Hola\"+\"estudiantes\")\n",
        "# La función input solicita información al usuario.\n",
        "# Generar una variable (=) para guardar el nombre.\n",
        "nombre = input(\"Escribe tu nombre\\n\")\n",
        "print(nombre)\n",
        "# La función type me permite saber que tipo de variable estoy utilizando.\n",
        "type(nombre)\n",
        "# La función len me permite calcular la longitud de una cadena.\n",
        "len(nombre)\n"
      ],
      "metadata": {
        "colab": {
          "base_uri": "https://localhost:8080/"
        },
        "id": "DF3-fFDltoLM",
        "outputId": "ff238abd-756a-4b72-cdc5-8b61ce534fdb"
      },
      "execution_count": 16,
      "outputs": [
        {
          "output_type": "stream",
          "name": "stdout",
          "text": [
            "Hola + estudiantes\n",
            "Hola  estudiantes\n",
            "Holaestudiantes\n",
            "Escribe tu nombre\n",
            "Alejandra\n",
            "Alejandra\n"
          ]
        },
        {
          "output_type": "execute_result",
          "data": {
            "text/plain": [
              "9"
            ]
          },
          "metadata": {},
          "execution_count": 16
        }
      ]
    },
    {
      "cell_type": "code",
      "source": [
        "print(\"Bienvenido, para crear tu contraseña se requieren los siguientes datos:\")\n",
        "mascota = input(\"Nombre de tu mascota\\n\")\n",
        "ciudad = input(\"Nombre de tu ciudad favorita\\n\")\n",
        "import random\n",
        "numero_random = (random.randint(1,10))\n",
        "contraseña = mascota + ciudad + str (numero_random)\n",
        "print(\"Tu contraseña se muestra a continuación:\")\n",
        "print(contraseña)\n"
      ],
      "metadata": {
        "id": "4mS-jSXuTWZI",
        "colab": {
          "base_uri": "https://localhost:8080/"
        },
        "outputId": "ea4464c6-acf4-4d3b-ac9e-5a8bb9f0e896"
      },
      "execution_count": 8,
      "outputs": [
        {
          "output_type": "stream",
          "name": "stdout",
          "text": [
            "Bienvenido, para crear tu contraseña se requieren los siguientes datos:\n",
            "Nombre de tu mascota\n",
            "Toby\n",
            "Nombre de tu ciudad favorita\n",
            "NewYork\n",
            "Tu contraseña se muestra a continuación:\n",
            "TobyNewYork3\n"
          ]
        }
      ]
    },
    {
      "cell_type": "code",
      "source": [],
      "metadata": {
        "id": "akiwF5wdrmEM"
      },
      "execution_count": null,
      "outputs": []
    }
  ]
}